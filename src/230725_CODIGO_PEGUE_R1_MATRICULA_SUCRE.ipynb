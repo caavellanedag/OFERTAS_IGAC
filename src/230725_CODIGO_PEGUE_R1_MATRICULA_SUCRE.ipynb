{
 "cells": [
  {
   "cell_type": "code",
   "execution_count": 1,
   "metadata": {},
   "outputs": [],
   "source": [
    "import requests\n",
    "import numpy as np\n",
    "from urllib.request import Request, urlopen\n",
    "from bs4 import BeautifulSoup\n",
    "import re\n",
    "import geopy.geocoders as geocoders\n",
    "import pandas as pd\n",
    "import geocoder\n",
    "from random import randint\n",
    "import random\n",
    "import time\n",
    "import os\n",
    "from unidecode import unidecode\n",
    "from fuzzywuzzy import process\n",
    "\n",
    "import os\n",
    "import zipfile\n",
    "import requests\n",
    "import numpy as np\n",
    "from urllib.request import Request, urlopen\n",
    "from bs4 import BeautifulSoup\n",
    "import re\n",
    "import geopy.geocoders as geocoders\n",
    "import pandas as pd\n",
    "import geocoder\n",
    "from random import randint\n",
    "import random\n",
    "import time\n",
    "import os\n",
    "import fiona\n",
    "import geopandas as gpd\n",
    "from shapely.geometry import Point\n",
    "import matplotlib.pyplot as plt\n",
    "import Levenshtein\n",
    "import datetime"
   ]
  },
  {
   "cell_type": "code",
   "execution_count": 2,
   "metadata": {},
   "outputs": [
    {
     "name": "stderr",
     "output_type": "stream",
     "text": [
      "C:\\Users\\Administrador\\AppData\\Local\\Temp\\ipykernel_6656\\3658018204.py:1: DtypeWarning: Columns (14,15) have mixed types. Specify dtype option on import or set low_memory=False.\n",
      "  df_R1_matricula = pd.read_csv(\"../../230628_COMPARACION_R1_DIFERENTES_FUENTES/output/230703_R1_Consolidado_4_mayo_Matricula.csv\", encoding = \"latin1\")\n"
     ]
    }
   ],
   "source": [
    "df_R1_matricula = pd.read_csv(\"../../230628_COMPARACION_R1_DIFERENTES_FUENTES/output/230703_R1_Consolidado_4_mayo_Matricula.csv\", encoding = \"latin1\")\n",
    "df_R1_matricula[\"CODIGO_ORIP\"] = df_R1_matricula[\"CODIGO_ORIP\"].astype(str).str.replace(\".0\", \"\")\n",
    "\n",
    "df_R1_matricula[\"MUNICIPIO\"] = df_R1_matricula[\"MUNICIPIO\"].astype(int).apply(round).astype(str).str.zfill(3)\n",
    "df_R1_matricula[\"DEPARTAMENTO\"] = df_R1_matricula[\"DEPARTAMENTO\"].astype(int).apply(round).astype(str).str.zfill(2)\n",
    "df_R1_matricula[\"DIVIPOLA\"] = df_R1_matricula[\"DEPARTAMENTO\"] + df_R1_matricula[\"MUNICIPIO\"]\n",
    "#ofertas_final[\"Municipio_x\"] = ofertas_final[\"Municipio_x\"].astype(int).apply(round).astype(str).str.zfill(3)\n",
    "#ofertas_final[\"Departamento_x\"] = ofertas_final[\"Departamento_x\"].astype(int).apply(round).astype(str).str.zfill(2)"
   ]
  },
  {
   "cell_type": "code",
   "execution_count": 3,
   "metadata": {},
   "outputs": [],
   "source": [
    "# df_matricula_R1 = pd.read_csv(\"../input/20230526_R1_Matricula.csv\")\n",
    "# df_matricula_R1_v2 = df_matricula_R1[df_matricula_R1[\"MATRICULA_INMOBILIARIA\"].notnull()][[\"NPN\", \"MATRICULA_INMOBILIARIA\", \"NUMERO_DEL_PREDIO\", 'Departamento', 'Municipio', \"DEPARTAMENTO\", \"DIVIPOLA\"]]\n",
    "# df_matricula_R1_v2 = df_matricula_R1_v2.rename(columns={\"NPN\" : \"NPN_R1\", \"MATRICULA_INMOBILIARIA\" : \"MATRICULA_INMOBILIARIA_R1\", \"NUMERO_DEL_PREDIO\" : \"NUMERO_DEL_PREDIO_R1\", 'Departamento' : 'Departamento_R1', 'Municipio' : 'Municipio_R1', \"DEPARTAMENTO\" : \"CODIGO_DEPARTAMENTO_R1\", \"DIVIPOLA\" : \"DIVIPOLA_R1\"})\n",
    "# df_matricula_R1_v2.columns\n",
    "# #df_matricula_R1_v2[\"MATRICULA_INMOBILIARIA_R1_v2\"] = df_matricula_R1_v2[\"MATRICULA_INMOBILIARIA_R1\"].str.strip()\n",
    "# df_matricula_R1_v2[\"MATRICULA_INMOBILIARIA_R1\"] = df_matricula_R1_v2[\"MATRICULA_INMOBILIARIA_R1\"].str.strip()\n",
    "# pattern = r'[^a-zA-Z0-9]'\n",
    "\n",
    "#df_matricula_R1_v2['MATRICULA_INMOBILIARIA_R1_v2'] = df_matricula_R1_v2['MATRICULA_INMOBILIARIA_R1_v2'].astype(str).str.replace(pattern, '', regex = True)\n",
    "\n",
    "# df_matricula_R1_v3 = df_matricula_R1_v2[df_matricula_R1_v2['MATRICULA_INMOBILIARIA_R1'].str.count(\"-\") == 1]\n",
    "# df_matricula_R1_v3['Matricula'] = df_matricula_R1_v3['MATRICULA_INMOBILIARIA_R1'].str.extract(r'-(\\d+)')\n",
    "# df_matricula_R1_v3['MATRICULA_INMOBILIARIA_DIVIPOLA_R1'] = df_matricula_R1_v3['DIVIPOLA_R1'].astype(int).apply(round).astype(str).str.strip() + \"-\" + df_matricula_R1_v3['Matricula'].astype(str).str.strip()"
   ]
  },
  {
   "cell_type": "code",
   "execution_count": 4,
   "metadata": {},
   "outputs": [],
   "source": [
    "divipola = pd.read_excel(\"../input/CODIGOS_DIVIPOLA.xlsx\", \"Listado Vigentes\")\n",
    "\n",
    "divipola[\"Nombre Municipio\"] = divipola[\"Nombre Municipio\"].astype(str).str.strip().apply(lambda x: unidecode(x))\n",
    "divipola[\"Nombre Departamento\"] = divipola[\"Nombre Departamento\"].astype(str).str.strip().apply(lambda x: unidecode(x))\n",
    "\n",
    "divipola[\"Código Municipio\"] = divipola[\"Código Municipio\"].astype(int).apply(round)\n",
    "divipola[\"Código Departamento\"] = divipola[\"Código Departamento\"].astype(int).apply(round)"
   ]
  },
  {
   "cell_type": "code",
   "execution_count": 5,
   "metadata": {},
   "outputs": [],
   "source": [
    "ofertas_final = pd.read_csv(\"../output/230725_RESULTADOS_GEOREF_SUCRE.csv\")\n",
    "ofertas_final.columns\n",
    "ofertas_final.drop(['Direccion_y', 'Municipio_y','Departamento_y', 'Código Departamento', 'Código Municipio_y', 'Código Departamento', 'Código Municipio_y', 'Código Municipio_x', 'Nombre Municipio', 'Nombre Departamento'], axis = 1, inplace=True)\n",
    "ofertas_final.rename({\"Direccion_x\": \"Direccion\", \"Departamento_x\" : \"Departamento\", \"Municipio_x\" : \"Municipio\"}, inplace = True, axis = 1)\n",
    "ofertas_final.loc[ofertas_final[\"DIVIPOLA\"].isnull(), \"DIVIPOLA\"] = ofertas_final.loc[ofertas_final[\"DIVIPOLA\"].isnull(), \"Municipio\"]\n",
    "ofertas_final.loc[ofertas_final[\"DIVIPOLA\"].isnull(), \"DIVIPOLA\"] = ofertas_final.loc[ofertas_final[\"DIVIPOLA\"].isnull(), \"Municipio\"]\n",
    "ofertas_final[\"DIVIPOLA\"] = ofertas_final[\"DIVIPOLA\"].astype(str).str.replace(\"\\.0+\", \"\", regex = True)\n",
    "ofertas_final.loc[ofertas_final[\"DIVIPOLA\"].str.contains(\"\\D\", regex = True), \"DIVIPOLA\"] = None\n",
    "ofertas_final[\"DIVIPOLA\"] = ofertas_final[\"DIVIPOLA\"].fillna(0)\n",
    "ofertas_final[\"DIVIPOLA\"] = ofertas_final[\"DIVIPOLA\"].astype(int).apply(round).astype(str).str.zfill(5)\n",
    "ofertas_final[\"Municipio\"] = ofertas_final[\"DIVIPOLA\"]\n",
    "ofertas_final['Departamento'] = ofertas_final['DIVIPOLA'].apply(lambda x: x[:2])"
   ]
  },
  {
   "cell_type": "code",
   "execution_count": 6,
   "metadata": {},
   "outputs": [],
   "source": [
    "divipola[\"Código Municipio\"] = divipola[\"Código Municipio\"].astype(int).apply(round).astype(str).str.zfill(5)\n",
    "ofertas_final = pd.merge(ofertas_final, divipola[[\"Código Municipio\", \"Nombre Municipio\",\"Nombre Departamento\"]].drop_duplicates(), left_on = \"DIVIPOLA\", right_on = \"Código Municipio\", how = \"left\")\n",
    "ofertas_final[\"Municipio_nombre\"] = ofertas_final[\"Nombre Municipio\"]\n",
    "ofertas_final[\"Departamento_nombre\"] = ofertas_final[\"Nombre Departamento\"]\n",
    "ofertas_final.drop([\"Código Municipio\", \"Nombre Municipio\",\"Nombre Departamento\"], axis = 1, inplace = True)"
   ]
  },
  {
   "cell_type": "code",
   "execution_count": 7,
   "metadata": {},
   "outputs": [
    {
     "data": {
      "text/html": [
       "<div>\n",
       "<style scoped>\n",
       "    .dataframe tbody tr th:only-of-type {\n",
       "        vertical-align: middle;\n",
       "    }\n",
       "\n",
       "    .dataframe tbody tr th {\n",
       "        vertical-align: top;\n",
       "    }\n",
       "\n",
       "    .dataframe thead th {\n",
       "        text-align: right;\n",
       "    }\n",
       "</style>\n",
       "<table border=\"1\" class=\"dataframe\">\n",
       "  <thead>\n",
       "    <tr style=\"text-align: right;\">\n",
       "      <th></th>\n",
       "      <th>CÓDIGO ORIP</th>\n",
       "      <th>DEPARTAMENTO</th>\n",
       "      <th>COBERTURA</th>\n",
       "      <th>DIVIPOLA</th>\n",
       "      <th>NOMBRE OFICINA DE REGISTRO</th>\n",
       "      <th>NOMBRE ORIP</th>\n",
       "      <th>FECHA DE CREACIÓN</th>\n",
       "      <th>ACTO ADMINISTRATIVO DE CREACIÓN</th>\n",
       "      <th>JEFE DE OFICINA</th>\n",
       "      <th>CORREO JEFE</th>\n",
       "      <th>CONTACTO</th>\n",
       "    </tr>\n",
       "  </thead>\n",
       "  <tbody>\n",
       "    <tr>\n",
       "      <th>603</th>\n",
       "      <td>162</td>\n",
       "      <td>CUNDINAMARCA</td>\n",
       "      <td>CHAGUANÍ</td>\n",
       "      <td>25168</td>\n",
       "      <td>GUADUAS</td>\n",
       "      <td>NaN</td>\n",
       "      <td>NaN</td>\n",
       "      <td>NaN</td>\n",
       "      <td>DAVID RAMIREZ GUERRA</td>\n",
       "      <td>david.ramirez@supernotariado.gov.co</td>\n",
       "      <td>(1) 8417430           (1)8466266</td>\n",
       "    </tr>\n",
       "  </tbody>\n",
       "</table>\n",
       "</div>"
      ],
      "text/plain": [
       "    CÓDIGO ORIP  DEPARTAMENTO COBERTURA DIVIPOLA NOMBRE OFICINA DE REGISTRO  \\\n",
       "603         162  CUNDINAMARCA  CHAGUANÍ    25168                    GUADUAS   \n",
       "\n",
       "     NOMBRE ORIP  FECHA DE CREACIÓN  ACTO ADMINISTRATIVO DE CREACIÓN  \\\n",
       "603          NaN                NaN                              NaN   \n",
       "\n",
       "           JEFE DE OFICINA                          CORREO JEFE  \\\n",
       "603  DAVID RAMIREZ GUERRA   david.ramirez@supernotariado.gov.co   \n",
       "\n",
       "                              CONTACTO  \n",
       "603  (1) 8417430           (1)8466266   "
      ]
     },
     "execution_count": 7,
     "metadata": {},
     "output_type": "execute_result"
    }
   ],
   "source": [
    "tabla_codigos_orip = pd.read_excel(\"../input/tablaORIP.xlsx\", sheet_name = \"Hoja1\")\n",
    "\n",
    "#tabla_codigos_orip[\"CÓDIGO ORIP\"] = tabla_codigos_orip[\"CÓDIGO ORIP\"].str.strip().astype(str)\n",
    "tabla_codigos_orip[\"DIVIPOLA\"] = tabla_codigos_orip[\"DIVIPOLA\"].fillna(0)\n",
    "tabla_codigos_orip[\"DIVIPOLA\"] = tabla_codigos_orip[\"DIVIPOLA\"].astype(str).str.replace(\".0\", \"\").str.zfill(5)\n",
    "tabla_codigos_orip[tabla_codigos_orip[\"DIVIPOLA\"].astype(str).str.contains(\"25168\")]"
   ]
  },
  {
   "cell_type": "code",
   "execution_count": 8,
   "metadata": {},
   "outputs": [],
   "source": [
    "codigos_orip_divipola = tabla_codigos_orip[[\"DIVIPOLA\", \"CÓDIGO ORIP\"]].drop_duplicates(\"DIVIPOLA\")\n",
    "df_R1_matricula[\"DIVIPOLA\"] = df_R1_matricula[\"DIVIPOLA\"].astype(str)\n",
    "ofertas_final[\"DIVIPOLA\"] = ofertas_final[\"DIVIPOLA\"].astype(str)\n",
    "codigos_orip_divipola[\"DIVIPOLA\"] = codigos_orip_divipola[\"DIVIPOLA\"].astype(str)\n",
    "df_R1_matricula = pd.merge(df_R1_matricula, codigos_orip_divipola, how = \"left\", on = \"DIVIPOLA\")\n",
    "ofertas_final = pd.merge(ofertas_final, codigos_orip_divipola, how = \"left\", on = \"DIVIPOLA\")"
   ]
  },
  {
   "cell_type": "code",
   "execution_count": 9,
   "metadata": {},
   "outputs": [],
   "source": [
    "replacement_string = ''\n",
    "\n",
    "prefixes_to_replace = ['347', '342', '340', '346']\n",
    "prefixes_to_replace_2 = [\"MI\",\"HA\",\"HC\",\"-ACLA\"]\n",
    "\n",
    "# Use the apply method to conditionally replace the strings\n",
    "ofertas_final['Matricula_Inmobiliaria'] = ofertas_final['Matricula_Inmobiliaria'].astype(str)\n",
    "ofertas_final['Matricula_Inmobiliaria'] = ofertas_final['Matricula_Inmobiliaria'].apply(lambda x: replacement_string + x[3:] if any(x.startswith(prefix) for prefix in prefixes_to_replace_2) else x)\n",
    "ofertas_final['Matricula_Inmobiliaria'] = ofertas_final['Matricula_Inmobiliaria'].apply(lambda x: replacement_string + x[3:] if any(x.startswith(prefix) for prefix in prefixes_to_replace) else x)\n",
    "\n",
    "df_matriculas = pd.DataFrame({\"Matricula_Inmobiliaria\" : ofertas_final[\"Matricula_Inmobiliaria\"].str.strip().str.extractall(r'(\\d+)')[0].reset_index(level=1, drop=True)})\n",
    "df_matriculas.tail()\n",
    "\n",
    "df_merge = pd.merge(df_matriculas, ofertas_final[[\"CÓDIGO ORIP\"]], how = \"left\", left_index = True, right_index = True)\n",
    "\n",
    "df_merge[\"Matricula_Divipola\"] = df_merge[\"CÓDIGO ORIP\"].astype(str) + \"-\" + df_merge[\"Matricula_Inmobiliaria\"].astype(str)\n",
    "#ofertas_final[[\"DIVIPOLA\"]]"
   ]
  },
  {
   "cell_type": "code",
   "execution_count": 10,
   "metadata": {},
   "outputs": [
    {
     "data": {
      "text/plain": [
       "CÓDIGO ORIP\n",
       "347    284\n",
       "342    261\n",
       "340    179\n",
       "346     11\n",
       "Name: count, dtype: int64"
      ]
     },
     "execution_count": 10,
     "metadata": {},
     "output_type": "execute_result"
    }
   ],
   "source": [
    "#df_merge[[\"Matricula_Inmobiliaria\", \"CÓDIGO ORIP\"]]\n",
    "#ofertas_final[ofertas_final[\"DIVIPOLA\"] != \"70001\"][[\"Matricula_Inmobiliaria\", \"CÓDIGO ORIP\"]].iloc[120:150]\n",
    "ofertas_final[ofertas_final[\"DIVIPOLA\"] != \"70001\"][\"CÓDIGO ORIP\"].value_counts()"
   ]
  },
  {
   "cell_type": "code",
   "execution_count": 11,
   "metadata": {},
   "outputs": [
    {
     "data": {
      "text/plain": [
       "(609, 9)"
      ]
     },
     "execution_count": 11,
     "metadata": {},
     "output_type": "execute_result"
    }
   ],
   "source": [
    "df_R1_matricula[\"MATRICULA\"].fillna(0, inplace=True)\n",
    "df_R1_matricula = df_R1_matricula[df_R1_matricula[\"NUMERO_DE_ORDEN\"].isin([1, \"1\"])]\n",
    "df_R1_matricula[\"MATRICULA\"] = df_R1_matricula[\"MATRICULA\"].astype(str).str.replace(\".0\", \"\").str.strip()\n",
    "df_R1_matricula[\"NPN_R1\"] = df_R1_matricula[\"DEPARTAMENTO\"] + df_R1_matricula[\"MUNICIPIO\"] + df_R1_matricula[\"NUMERO_DEL_PREDIO\"]\n",
    "#df_R1_matricula['MATRICULA_INMOBILIARIA_DIVIPOLA_R1'] = df_R1_matricula['CÓDIGO ORIP'].astype(str).str.strip() + \"-\" + df_R1_matricula['MATRICULA'].astype(str).str.strip()\n",
    "#df_R1_matricula['MATRICULA_INMOBILIARIA_DIVIPOLA_R1'] = df_R1_matricula['MATRICULA_INMOBILIARIA_DIVIPOLA_R1'].str.strip().str.replace(\" \", \"\").astype(str)\n",
    "df_merge['Matricula_Divipola'] = df_merge['Matricula_Divipola'].str.strip().str.replace(\" \", \"\").astype(str)\n",
    "df_merge.reset_index(inplace= True)\n",
    "df_merge_2 = pd.merge(df_merge, df_R1_matricula[[\"CÓDIGO ORIP\", \"MATRICULA\", \"DEPARTAMENTO\", \"MUNICIPIO\", \"NUMERO_DEL_PREDIO\", \"NPN_R1\"]].drop_duplicates(), how = \"inner\", left_on = [\"CÓDIGO ORIP\", \"Matricula_Inmobiliaria\"], right_on = [\"CÓDIGO ORIP\", \"MATRICULA\"])\n",
    "df_merge_2.drop_duplicates(\"index\",inplace= True)\n",
    "#df_merge_2.set_index(\"index\", inplace= True)\n",
    "df_merge_2.shape\n",
    "\t"
   ]
  },
  {
   "cell_type": "code",
   "execution_count": 12,
   "metadata": {},
   "outputs": [],
   "source": [
    "ORIP_UNIQUE_CODES = df_merge[df_merge[\"CÓDIGO ORIP\"].isin(df_R1_matricula[\"CÓDIGO ORIP\"])][\"CÓDIGO ORIP\"].unique()\n",
    "\n",
    "df_aprox_matriculas_final = []\n",
    "for orip in ORIP_UNIQUE_CODES:\n",
    "    orip = ORIP_UNIQUE_CODES[0]\n",
    "    df_avaluos = df_merge[df_merge[\"CÓDIGO ORIP\"].astype(str) == str(orip)].copy()\n",
    "    df_matricula_orip = df_R1_matricula[df_R1_matricula[\"CÓDIGO ORIP\"].astype(str) == str(orip)].copy()\n",
    "\n",
    "    df_avaluos = df_avaluos[~df_avaluos[\"Matricula_Inmobiliaria\"].str.contains(\"\\D\", regex = True)]\n",
    "    df_matricula_orip = df_matricula_orip[[\"CÓDIGO ORIP\", \"MATRICULA\", \"DEPARTAMENTO\", \"MUNICIPIO\", \"NUMERO_DEL_PREDIO\", \"NPN_R1\"]].drop_duplicates()\n",
    "    df_matricula_orip = df_matricula_orip[~df_matricula_orip[\"MATRICULA\"].str.contains(\"\\D\", regex = True)]\n",
    "\n",
    "    #df_avaluos[\"Matricula_Inmobiliaria\"] = df_avaluos[\"Matricula_Inmobiliaria\"].astype(int)\n",
    "\n",
    "    #df_avaluos.sort_values(\"Matricula_Inmobiliaria\")\n",
    "    #df_avaluos\n",
    "    #df_matricula_orip[[\"MATRICULA\"]]\n",
    "    df_avaluos[\"Matricula_Inmobiliaria\"] = df_avaluos[\"Matricula_Inmobiliaria\"].astype(\"Int64\")\n",
    "    df_matricula_orip[\"MATRICULA\"] = df_matricula_orip[\"MATRICULA\"].astype(\"Int64\")\n",
    "    df_avaluos[\"Matricula_Inmobiliaria\"] = df_avaluos[\"Matricula_Inmobiliaria\"].astype(\"int\")\n",
    "    df_matricula_orip[\"MATRICULA\"] = df_matricula_orip[\"MATRICULA\"].astype(\"int\")\n",
    "    df_avaluos.sort_values(\"Matricula_Inmobiliaria\", inplace=True)\n",
    "    df_matricula_orip.sort_values(\"MATRICULA\", inplace=True)\n",
    "\n",
    "    df_avaluos_matricula_aprox = pd.merge_asof(df_avaluos, df_matricula_orip[[\"MATRICULA\",\"NPN_R1\"]], left_on = \"Matricula_Inmobiliaria\", right_on = \"MATRICULA\")\n",
    "\n",
    "    # Function to calculate Levenshtein distance\n",
    "    def calculate_distance(row):\n",
    "        return Levenshtein.distance(row['Matricula_Inmobiliaria'], row['MATRICULA'])\n",
    "\n",
    "    df_avaluos_matricula_aprox[\"Matricula_Inmobiliaria\"] = df_avaluos_matricula_aprox[\"Matricula_Inmobiliaria\"].astype(str)\n",
    "    df_avaluos_matricula_aprox[\"MATRICULA\"] = df_avaluos_matricula_aprox[\"MATRICULA\"].astype(str)\n",
    "    # Apply the function to each row and store the results in a new column\n",
    "    df_avaluos_matricula_aprox['distance'] = df_avaluos_matricula_aprox.apply(calculate_distance, axis=1)\n",
    "    df_avaluos_matricula_aprox['Longitud_matricula'] = df_avaluos_matricula_aprox[\"Matricula_Inmobiliaria\"].apply(len)\n",
    "    df_aprox_matriculas_final.append(df_avaluos_matricula_aprox)\n",
    "    #df_avaluos_matricula_aprox.tail()\n"
   ]
  },
  {
   "cell_type": "code",
   "execution_count": 13,
   "metadata": {},
   "outputs": [
    {
     "name": "stderr",
     "output_type": "stream",
     "text": [
      "C:\\Users\\Administrador\\AppData\\Local\\Temp\\ipykernel_6656\\4173479554.py:3: SettingWithCopyWarning: \n",
      "A value is trying to be set on a copy of a slice from a DataFrame.\n",
      "Try using .loc[row_indexer,col_indexer] = value instead\n",
      "\n",
      "See the caveats in the documentation: https://pandas.pydata.org/pandas-docs/stable/user_guide/indexing.html#returning-a-view-versus-a-copy\n",
      "  df_aprox_matriculas_final_3[\"MATRICULA_APROXIMADA\"] = df_aprox_matriculas_final_3[\"CÓDIGO ORIP\"].astype(str) + \"-\" + df_aprox_matriculas_final_3[\"MATRICULA\"].astype(str)\n",
      "C:\\Users\\Administrador\\AppData\\Local\\Temp\\ipykernel_6656\\4173479554.py:5: SettingWithCopyWarning: \n",
      "A value is trying to be set on a copy of a slice from a DataFrame\n",
      "\n",
      "See the caveats in the documentation: https://pandas.pydata.org/pandas-docs/stable/user_guide/indexing.html#returning-a-view-versus-a-copy\n",
      "  df_aprox_matriculas_final_4.rename({\"NPN_R1\": \"NPN_R1_APROX\"}, axis = 1, inplace=True)\n"
     ]
    },
    {
     "data": {
      "text/html": [
       "<div>\n",
       "<style scoped>\n",
       "    .dataframe tbody tr th:only-of-type {\n",
       "        vertical-align: middle;\n",
       "    }\n",
       "\n",
       "    .dataframe tbody tr th {\n",
       "        vertical-align: top;\n",
       "    }\n",
       "\n",
       "    .dataframe thead th {\n",
       "        text-align: right;\n",
       "    }\n",
       "</style>\n",
       "<table border=\"1\" class=\"dataframe\">\n",
       "  <thead>\n",
       "    <tr style=\"text-align: right;\">\n",
       "      <th></th>\n",
       "      <th>MATRICULA_APROXIMADA</th>\n",
       "      <th>NPN_R1_APROX</th>\n",
       "    </tr>\n",
       "    <tr>\n",
       "      <th>index</th>\n",
       "      <th></th>\n",
       "      <th></th>\n",
       "    </tr>\n",
       "  </thead>\n",
       "  <tbody>\n",
       "    <tr>\n",
       "      <th>1299</th>\n",
       "      <td>340-10183</td>\n",
       "      <td>702650001000000040095000000000</td>\n",
       "    </tr>\n",
       "    <tr>\n",
       "      <th>1309</th>\n",
       "      <td>340-10230</td>\n",
       "      <td>708200100000000530022000000000</td>\n",
       "    </tr>\n",
       "    <tr>\n",
       "      <th>551</th>\n",
       "      <td>340-10230</td>\n",
       "      <td>708200100000000530022000000000</td>\n",
       "    </tr>\n",
       "    <tr>\n",
       "      <th>1137</th>\n",
       "      <td>340-10461</td>\n",
       "      <td>706700100000000500002000000000</td>\n",
       "    </tr>\n",
       "    <tr>\n",
       "      <th>923</th>\n",
       "      <td>340-10557</td>\n",
       "      <td>707130100000000780002000000000</td>\n",
       "    </tr>\n",
       "  </tbody>\n",
       "</table>\n",
       "</div>"
      ],
      "text/plain": [
       "      MATRICULA_APROXIMADA                    NPN_R1_APROX\n",
       "index                                                     \n",
       "1299             340-10183  702650001000000040095000000000\n",
       "1309             340-10230  708200100000000530022000000000\n",
       "551              340-10230  708200100000000530022000000000\n",
       "1137             340-10461  706700100000000500002000000000\n",
       "923              340-10557  707130100000000780002000000000"
      ]
     },
     "execution_count": 13,
     "metadata": {},
     "output_type": "execute_result"
    }
   ],
   "source": [
    "df_aprox_matriculas_final_2 = pd.concat(df_aprox_matriculas_final, axis = 0)\n",
    "df_aprox_matriculas_final_3 = df_aprox_matriculas_final_2[(df_aprox_matriculas_final_2[\"distance\"] >= 1) & (df_aprox_matriculas_final_2[\"distance\"] < 2) & (df_aprox_matriculas_final_2[\"Longitud_matricula\"] > 4)]\n",
    "df_aprox_matriculas_final_3[\"MATRICULA_APROXIMADA\"] = df_aprox_matriculas_final_3[\"CÓDIGO ORIP\"].astype(str) + \"-\" + df_aprox_matriculas_final_3[\"MATRICULA\"].astype(str)\n",
    "df_aprox_matriculas_final_4 = df_aprox_matriculas_final_3[[\"index\", \"MATRICULA_APROXIMADA\", \"NPN_R1\"]]\n",
    "df_aprox_matriculas_final_4.rename({\"NPN_R1\": \"NPN_R1_APROX\"}, axis = 1, inplace=True)\n",
    "df_aprox_matriculas_final_4.set_index(\"index\", inplace=True)\n",
    "df_aprox_matriculas_final_4.head()\n"
   ]
  },
  {
   "cell_type": "code",
   "execution_count": 14,
   "metadata": {},
   "outputs": [
    {
     "data": {
      "text/html": [
       "<div>\n",
       "<style scoped>\n",
       "    .dataframe tbody tr th:only-of-type {\n",
       "        vertical-align: middle;\n",
       "    }\n",
       "\n",
       "    .dataframe tbody tr th {\n",
       "        vertical-align: top;\n",
       "    }\n",
       "\n",
       "    .dataframe thead th {\n",
       "        text-align: right;\n",
       "    }\n",
       "</style>\n",
       "<table border=\"1\" class=\"dataframe\">\n",
       "  <thead>\n",
       "    <tr style=\"text-align: right;\">\n",
       "      <th></th>\n",
       "      <th>index</th>\n",
       "      <th>Matricula_Inmobiliaria</th>\n",
       "      <th>CÓDIGO ORIP</th>\n",
       "      <th>Matricula_Divipola</th>\n",
       "      <th>MATRICULA</th>\n",
       "      <th>NPN_R1</th>\n",
       "      <th>distance</th>\n",
       "      <th>Longitud_matricula</th>\n",
       "      <th>MATRICULA_APROXIMADA</th>\n",
       "    </tr>\n",
       "  </thead>\n",
       "  <tbody>\n",
       "    <tr>\n",
       "      <th>107</th>\n",
       "      <td>1299</td>\n",
       "      <td>10186</td>\n",
       "      <td>340</td>\n",
       "      <td>340-10186</td>\n",
       "      <td>10183</td>\n",
       "      <td>702650001000000040095000000000</td>\n",
       "      <td>1</td>\n",
       "      <td>5</td>\n",
       "      <td>340-10183</td>\n",
       "    </tr>\n",
       "    <tr>\n",
       "      <th>108</th>\n",
       "      <td>1309</td>\n",
       "      <td>10237</td>\n",
       "      <td>340</td>\n",
       "      <td>340-10237</td>\n",
       "      <td>10230</td>\n",
       "      <td>708200100000000530022000000000</td>\n",
       "      <td>1</td>\n",
       "      <td>5</td>\n",
       "      <td>340-10230</td>\n",
       "    </tr>\n",
       "    <tr>\n",
       "      <th>109</th>\n",
       "      <td>551</td>\n",
       "      <td>10237</td>\n",
       "      <td>340</td>\n",
       "      <td>340-10237</td>\n",
       "      <td>10230</td>\n",
       "      <td>708200100000000530022000000000</td>\n",
       "      <td>1</td>\n",
       "      <td>5</td>\n",
       "      <td>340-10230</td>\n",
       "    </tr>\n",
       "    <tr>\n",
       "      <th>111</th>\n",
       "      <td>1137</td>\n",
       "      <td>10469</td>\n",
       "      <td>340</td>\n",
       "      <td>340-10469</td>\n",
       "      <td>10461</td>\n",
       "      <td>706700100000000500002000000000</td>\n",
       "      <td>1</td>\n",
       "      <td>5</td>\n",
       "      <td>340-10461</td>\n",
       "    </tr>\n",
       "    <tr>\n",
       "      <th>112</th>\n",
       "      <td>923</td>\n",
       "      <td>10559</td>\n",
       "      <td>340</td>\n",
       "      <td>340-000000010559</td>\n",
       "      <td>10557</td>\n",
       "      <td>707130100000000780002000000000</td>\n",
       "      <td>1</td>\n",
       "      <td>5</td>\n",
       "      <td>340-10557</td>\n",
       "    </tr>\n",
       "  </tbody>\n",
       "</table>\n",
       "</div>"
      ],
      "text/plain": [
       "     index Matricula_Inmobiliaria CÓDIGO ORIP Matricula_Divipola MATRICULA  \\\n",
       "107   1299                  10186         340          340-10186     10183   \n",
       "108   1309                  10237         340          340-10237     10230   \n",
       "109    551                  10237         340          340-10237     10230   \n",
       "111   1137                  10469         340          340-10469     10461   \n",
       "112    923                  10559         340   340-000000010559     10557   \n",
       "\n",
       "                             NPN_R1  distance  Longitud_matricula  \\\n",
       "107  702650001000000040095000000000         1                   5   \n",
       "108  708200100000000530022000000000         1                   5   \n",
       "109  708200100000000530022000000000         1                   5   \n",
       "111  706700100000000500002000000000         1                   5   \n",
       "112  707130100000000780002000000000         1                   5   \n",
       "\n",
       "    MATRICULA_APROXIMADA  \n",
       "107            340-10183  \n",
       "108            340-10230  \n",
       "109            340-10230  \n",
       "111            340-10461  \n",
       "112            340-10557  "
      ]
     },
     "execution_count": 14,
     "metadata": {},
     "output_type": "execute_result"
    }
   ],
   "source": [
    "df_aprox_matriculas_final_3.head()"
   ]
  },
  {
   "cell_type": "code",
   "execution_count": 15,
   "metadata": {},
   "outputs": [],
   "source": [
    "df_merge_2.set_index(\"index\", inplace = True)\n",
    "df_merge_2[\"FUENTE_PROCESAMIENTO\"] = \"R1_MATRICULA\""
   ]
  },
  {
   "cell_type": "code",
   "execution_count": 16,
   "metadata": {},
   "outputs": [
    {
     "name": "stderr",
     "output_type": "stream",
     "text": [
      "C:\\Users\\Administrador\\AppData\\Local\\Temp\\ipykernel_6656\\2358486246.py:2: SettingWithCopyWarning: \n",
      "A value is trying to be set on a copy of a slice from a DataFrame\n",
      "\n",
      "See the caveats in the documentation: https://pandas.pydata.org/pandas-docs/stable/user_guide/indexing.html#returning-a-view-versus-a-copy\n",
      "  df_aprox_matriculas_final_4.drop_duplicates(inplace=True)\n"
     ]
    }
   ],
   "source": [
    "df_aprox_matriculas_final_4.reset_index(inplace=True)\n",
    "df_aprox_matriculas_final_4.drop_duplicates(inplace=True)\n",
    "df_aprox_matriculas_final_4.set_index(\"index\", inplace=True)\n"
   ]
  },
  {
   "cell_type": "code",
   "execution_count": 17,
   "metadata": {},
   "outputs": [
    {
     "data": {
      "text/html": [
       "<div>\n",
       "<style scoped>\n",
       "    .dataframe tbody tr th:only-of-type {\n",
       "        vertical-align: middle;\n",
       "    }\n",
       "\n",
       "    .dataframe tbody tr th {\n",
       "        vertical-align: top;\n",
       "    }\n",
       "\n",
       "    .dataframe thead th {\n",
       "        text-align: right;\n",
       "    }\n",
       "</style>\n",
       "<table border=\"1\" class=\"dataframe\">\n",
       "  <thead>\n",
       "    <tr style=\"text-align: right;\">\n",
       "      <th></th>\n",
       "      <th>Matricula_Inmobiliaria</th>\n",
       "      <th>CÓDIGO ORIP</th>\n",
       "      <th>Matricula_Divipola</th>\n",
       "      <th>MATRICULA</th>\n",
       "      <th>DEPARTAMENTO</th>\n",
       "      <th>MUNICIPIO</th>\n",
       "      <th>NUMERO_DEL_PREDIO</th>\n",
       "      <th>NPN_R1</th>\n",
       "      <th>FUENTE_PROCESAMIENTO</th>\n",
       "    </tr>\n",
       "    <tr>\n",
       "      <th>index</th>\n",
       "      <th></th>\n",
       "      <th></th>\n",
       "      <th></th>\n",
       "      <th></th>\n",
       "      <th></th>\n",
       "      <th></th>\n",
       "      <th></th>\n",
       "      <th></th>\n",
       "      <th></th>\n",
       "    </tr>\n",
       "  </thead>\n",
       "  <tbody>\n",
       "    <tr>\n",
       "      <th>9</th>\n",
       "      <td>68545</td>\n",
       "      <td>340</td>\n",
       "      <td>340-68545</td>\n",
       "      <td>68545</td>\n",
       "      <td>70</td>\n",
       "      <td>823</td>\n",
       "      <td>0003000000010422000000000</td>\n",
       "      <td>708230003000000010422000000000</td>\n",
       "      <td>R1_MATRICULA</td>\n",
       "    </tr>\n",
       "    <tr>\n",
       "      <th>10</th>\n",
       "      <td>4679</td>\n",
       "      <td>340</td>\n",
       "      <td>340-4679</td>\n",
       "      <td>4679</td>\n",
       "      <td>70</td>\n",
       "      <td>820</td>\n",
       "      <td>0100000001110011000000000</td>\n",
       "      <td>708200100000001110011000000000</td>\n",
       "      <td>R1_MATRICULA</td>\n",
       "    </tr>\n",
       "    <tr>\n",
       "      <th>157</th>\n",
       "      <td>101627</td>\n",
       "      <td>340</td>\n",
       "      <td>340-101627</td>\n",
       "      <td>101627</td>\n",
       "      <td>70</td>\n",
       "      <td>265</td>\n",
       "      <td>0100000001330001000000000</td>\n",
       "      <td>702650100000001330001000000000</td>\n",
       "      <td>R1_MATRICULA</td>\n",
       "    </tr>\n",
       "    <tr>\n",
       "      <th>229</th>\n",
       "      <td>137907</td>\n",
       "      <td>340</td>\n",
       "      <td>340-137907</td>\n",
       "      <td>137907</td>\n",
       "      <td>70</td>\n",
       "      <td>820</td>\n",
       "      <td>0102000000080024901020001</td>\n",
       "      <td>708200102000000080024901020001</td>\n",
       "      <td>R1_MATRICULA</td>\n",
       "    </tr>\n",
       "    <tr>\n",
       "      <th>319</th>\n",
       "      <td>137907</td>\n",
       "      <td>340</td>\n",
       "      <td>340-137907</td>\n",
       "      <td>137907</td>\n",
       "      <td>70</td>\n",
       "      <td>820</td>\n",
       "      <td>0102000000080024901020001</td>\n",
       "      <td>708200102000000080024901020001</td>\n",
       "      <td>R1_MATRICULA</td>\n",
       "    </tr>\n",
       "  </tbody>\n",
       "</table>\n",
       "</div>"
      ],
      "text/plain": [
       "      Matricula_Inmobiliaria CÓDIGO ORIP Matricula_Divipola MATRICULA  \\\n",
       "index                                                                   \n",
       "9                      68545         340          340-68545     68545   \n",
       "10                      4679         340           340-4679      4679   \n",
       "157                   101627         340         340-101627    101627   \n",
       "229                   137907         340         340-137907    137907   \n",
       "319                   137907         340         340-137907    137907   \n",
       "\n",
       "      DEPARTAMENTO MUNICIPIO          NUMERO_DEL_PREDIO  \\\n",
       "index                                                     \n",
       "9               70       823  0003000000010422000000000   \n",
       "10              70       820  0100000001110011000000000   \n",
       "157             70       265  0100000001330001000000000   \n",
       "229             70       820  0102000000080024901020001   \n",
       "319             70       820  0102000000080024901020001   \n",
       "\n",
       "                               NPN_R1 FUENTE_PROCESAMIENTO  \n",
       "index                                                       \n",
       "9      708230003000000010422000000000         R1_MATRICULA  \n",
       "10     708200100000001110011000000000         R1_MATRICULA  \n",
       "157    702650100000001330001000000000         R1_MATRICULA  \n",
       "229    708200102000000080024901020001         R1_MATRICULA  \n",
       "319    708200102000000080024901020001         R1_MATRICULA  "
      ]
     },
     "execution_count": 17,
     "metadata": {},
     "output_type": "execute_result"
    }
   ],
   "source": [
    "df_merge_2.head()"
   ]
  },
  {
   "cell_type": "code",
   "execution_count": 18,
   "metadata": {},
   "outputs": [
    {
     "data": {
      "text/plain": [
       "(3736, 60)"
      ]
     },
     "execution_count": 18,
     "metadata": {},
     "output_type": "execute_result"
    }
   ],
   "source": [
    "ofertas_final_v1 = pd.merge(ofertas_final, df_merge_2[[\"NPN_R1\", \"FUENTE_PROCESAMIENTO\", \"Matricula_Divipola\"]], how = \"left\", left_index = True, right_index = True)\n",
    "ofertas_final_v2 = pd.merge(ofertas_final_v1,  df_aprox_matriculas_final_4, how = \"left\", left_index = True, right_index = True)\n",
    "ofertas_final_v2.shape\n",
    "#pd.merge"
   ]
  },
  {
   "cell_type": "code",
   "execution_count": 19,
   "metadata": {},
   "outputs": [
    {
     "data": {
      "text/plain": [
       "(157, 60)"
      ]
     },
     "execution_count": 19,
     "metadata": {},
     "output_type": "execute_result"
    }
   ],
   "source": [
    "\n",
    "# # Use the str.contains method to filter and keep only strings that contain letters\n",
    "# df = ofertas_final_v2[ofertas_final_v2['Matricula_Inmobiliaria'].str.contains('[a-zA-Z]')]\n",
    "# df['extracted_characters'] = df['Matricula_Inmobiliaria'].str.extract(r'([a-zA-Z]+)')\n",
    "# df.iloc[40:60][\"Matricula_Inmobiliaria\"]\n",
    "ofertas_final_v2[(ofertas_final_v2[\"FUENTE_PROCESAMIENTO\"] != \"R1_MATRICULA\") & (ofertas_final_v2[\"DIVIPOLA\"] != \"70001\")].shape"
   ]
  },
  {
   "cell_type": "code",
   "execution_count": 20,
   "metadata": {},
   "outputs": [],
   "source": [
    "# quantiles = list(np.arange(0, 0.95, 0.05))#[0.05, 0.1, 0.2, 0.25, 0.50, 0.75, 0.90, 0.95, 0.97]\n",
    "# ofertas_final_v2[(ofertas_final_v2[\"ZONA\"] == \"RURAL_APROX\") & (ofertas_final_v2[\"FUENTE_PROCESAMIENTO\"] == \"R1_MATRICULA\")][\"Distancia_final\"].quantile(quantiles).to_frame().reset_index()\n",
    "\n"
   ]
  },
  {
   "cell_type": "code",
   "execution_count": 21,
   "metadata": {},
   "outputs": [],
   "source": [
    "pd.options.display.float_format = '{:.6f}'.format\n",
    "# ofertas_final_v2[(ofertas_final_v2[\"ZONA\"] == \"URBANA_APROX\") & (ofertas_final_v2[\"FUENTE_PROCESAMIENTO\"] == \"R1_MATRICULA\")][\"Distancia_final\"].quantile(quantiles).to_frame().reset_index()"
   ]
  },
  {
   "cell_type": "code",
   "execution_count": null,
   "metadata": {},
   "outputs": [],
   "source": []
  },
  {
   "cell_type": "code",
   "execution_count": 22,
   "metadata": {},
   "outputs": [],
   "source": [
    "ofertas_final_v2.loc[ofertas_final_v2[\"NPN_R1\"].notnull(), \"CODIGO_PREDIAL\"] = ofertas_final_v2.loc[ofertas_final_v2[\"NPN_R1\"].notnull(), \"NPN_R1\"]\n",
    "#ofertas_final_v2.loc[ofertas_final_v2[\"NPN_R1\"].notnull(), \"Fuente\"] = \"OIC\"\n",
    "ofertas_final_v2.loc[(ofertas_final_v2[\"NPN_R1\"].isnull()) & (ofertas_final_v2[\"CODIGO_PREDIAL\"].notnull()), \"FUENTE_PROCESAMIENTO\"] = \"Subdireccion\"\n",
    "\n",
    "ofertas_final_v2.loc[(ofertas_final_v2[\"Distancia_final\"] <= 0.000092) & (ofertas_final_v2[\"ZONA\"] == \"URBANA_APROX\"), \"TIPO_GEORREF\"] = \"APROX_OK\"\n",
    "ofertas_final_v2.loc[(ofertas_final_v2[\"Distancia_final\"] <= 0.008925) & (ofertas_final_v2[\"ZONA\"] == \"RURAL_APPROX\"), \"TIPO_GEORREF\"] = \"APROX_OK\"\n",
    "\n",
    "# ofertas_final_v2.loc[(ofertas_final_v2[\"Distancia_final\"] <= 0.000045) & (ofertas_final_v2[\"ZONA\"] == \"URBANA_APROX\"), \"TIPO_GEORREF\"] = \"APROX_OK\"\n",
    "# ofertas_final_v2.loc[(ofertas_final_v2[\"Distancia_final\"] <= 0.007404) & (ofertas_final_v2[\"ZONA\"] == \"RURAL_APPROX\"), \"TIPO_GEORREF\"] = \"APROX_OK\"\n"
   ]
  },
  {
   "cell_type": "code",
   "execution_count": 23,
   "metadata": {},
   "outputs": [],
   "source": [
    "# Get today's date\n",
    "today = datetime.date.today()\n",
    "# Format today's date as YYMMDD\n",
    "formatted_date = today.strftime(\"%y%m%d\")\n",
    "\n",
    "ofertas_final_v2[\"SUBSTRING_67\"] = ofertas_final_v2[\"CODIGO_PREDIAL\"].str[5:7]\n",
    "ofertas_final_v2[\"SUBSTRING_22\"] = ofertas_final_v2[\"CODIGO_PREDIAL\"].str[21:22]\n",
    "\n",
    "# Define the conditions and corresponding values\n",
    "conditions = [\n",
    "    ofertas_final_v2['SUBSTRING_67'] == \"00\",\n",
    "    ofertas_final_v2['SUBSTRING_67'] == \"01\",\n",
    "    (~ofertas_final_v2['SUBSTRING_67'].isin([\"01\", \"00\"])) & (ofertas_final_v2['SUBSTRING_67'].notnull())\n",
    "]\n",
    "choices = ['RURAL', 'URBANO', 'CENTRO_P']\n",
    "\n",
    "# Apply the case when statement using numpy.select()\n",
    "ofertas_final_v2['ZONA'] = np.select(conditions, choices, default='SIN_ASIGNAR')\n",
    "\n",
    "conditions_tipo_predio = [\n",
    "    ofertas_final_v2['SUBSTRING_22'] == \"9\",\n",
    "    ofertas_final_v2['SUBSTRING_22'] == \"8\",\n",
    "    ofertas_final_v2['SUBSTRING_22'] == \"7\",\n",
    "    ofertas_final_v2['SUBSTRING_22'] == \"5\",\n",
    "    ofertas_final_v2['SUBSTRING_22'] == \"4\",\n",
    "    ofertas_final_v2['SUBSTRING_22'] == \"3\",\n",
    "    ofertas_final_v2['SUBSTRING_22'] == \"0\"    \n",
    "]\n",
    "choices_tipo_predio = [\"PH\", \"CONDOMINIO\", \"CEMENTERIOS\", \"MEJORA\", \"VIAS\", \"USO_PUBLICO\", \"NPH\"]\n",
    "\n",
    "\n",
    "ofertas_final_v2['CLASE_PREDIO'] = np.select(conditions_tipo_predio, choices_tipo_predio, default='SIN_ASIGNAR')\n",
    "\n",
    "ofertas_final_v2.loc[ofertas_final_v2[\"FUENTE_PROCESAMIENTO\"] != \"R1_MATRICULA\", 'CLASE_PREDIO'] = \"SIN ASIGNAR\"\n",
    "\n",
    "ofertas_final_v2[\"DIVIPOLA_EN_R1\"] = \"NO\"\n",
    "ofertas_final_v2.loc[ofertas_final_v2[\"DIVIPOLA\"].isin(df_R1_matricula[\"DIVIPOLA\"].drop_duplicates().to_list()), \"DIVIPOLA_EN_R1\"] = \"SI\"\n",
    "\n",
    "ofertas_final_v2.loc[(ofertas_final_v2[\"DIVIPOLA_EN_R1\"] == \"NO\") & (ofertas_final_v2[\"FUENTE_PROCESAMIENTO\"] == \"R1_MATRICULA\"), \"FUENTE_PROCESAMIENTO\"] = \"MUNICIPIO_SIN_R1\"\n",
    "\n",
    "ofertas_final_v2.reset_index(inplace = True)\n",
    "\n",
    "Logical_validation_mun = ofertas_final_v2[(ofertas_final_v2[\"FUENTE_PROCESAMIENTO\"] == \"Subdireccion\") & (ofertas_final_v2[\"TIPO_GEORREF\"].isin([\"EXACTA\", \"APROX_OK\"]))][\"CODIGO_PREDIAL\"].str[0:5] != ofertas_final_v2[(ofertas_final_v2[\"FUENTE_PROCESAMIENTO\"] == \"Subdireccion\") & (ofertas_final_v2[\"TIPO_GEORREF\"].isin([\"EXACTA\", \"APROX_OK\"]))][\"DIVIPOLA\"]\n",
    "ofertas_final_v2.loc[ofertas_final_v2[\"index\"].isin(Logical_validation_mun[Logical_validation_mun == True].index), \"TIPO_GEORREF\"] = \"APROX\"\n",
    "\n",
    "ofertas_final_v2.set_index(\"index\")\n",
    "ofertas_final_v2.drop(['Unnamed: 0',  'Direccion1', 'address',  'Consecutivo',  \"SUBSTRING_22\", 'SUBSTRING_67', \"CODIGO_ANT_RURAL_APROX\", \"CODIGO_ANT_URBANO\", \"CODIGO_ANT_RURAL\",\"CODIGO_ANT_URBANO_APROX\"], axis = 1, inplace = True)\n",
    "ofertas_final_v2[\"ENCONTRADO\"] = \"NO\"\n",
    "ofertas_final_v2.loc[(ofertas_final_v2[\"FUENTE_PROCESAMIENTO\"] == \"R1_MATRICULA\") | ((ofertas_final_v2[\"FUENTE_PROCESAMIENTO\"] == \"Subdireccion\") & (ofertas_final_v2[\"TIPO_GEORREF\"].isin([\"EXACTA\", \"APROX_OK\"]))), \"ENCONTRADO\"] = \"SI\"\n",
    "\n"
   ]
  },
  {
   "cell_type": "code",
   "execution_count": 24,
   "metadata": {},
   "outputs": [
    {
     "data": {
      "text/plain": [
       "ENCONTRADO  FUENTE_PROCESAMIENTO  TIPO_GEORREF\n",
       "NO          Subdireccion          APROX           2676\n",
       "            NaN                   NaN              403\n",
       "SI          R1_MATRICULA          NaN              322\n",
       "                                  EXACTA           133\n",
       "                                  APROX_OK          96\n",
       "            Subdireccion          EXACTA            28\n",
       "            R1_MATRICULA          APROX             27\n",
       "NO          MUNICIPIO_SIN_R1      APROX             22\n",
       "SI          Subdireccion          APROX_OK          20\n",
       "NO          MUNICIPIO_SIN_R1      NaN                9\n",
       "Name: count, dtype: int64"
      ]
     },
     "execution_count": 24,
     "metadata": {},
     "output_type": "execute_result"
    }
   ],
   "source": [
    "ofertas_final_v2[[\"ENCONTRADO\", \"FUENTE_PROCESAMIENTO\",\"TIPO_GEORREF\"]].value_counts(dropna=False)\n"
   ]
  },
  {
   "cell_type": "code",
   "execution_count": 25,
   "metadata": {},
   "outputs": [
    {
     "data": {
      "text/plain": [
       "Series([], Name: FUENTE_PROCESAMIENTO, dtype: object)"
      ]
     },
     "execution_count": 25,
     "metadata": {},
     "output_type": "execute_result"
    }
   ],
   "source": [
    "ofertas_final_v2.loc[(ofertas_final_v2[\"DIVIPOLA_EN_R1\"] == \"NO\") & (ofertas_final_v2[\"FUENTE_PROCESAMIENTO\"] == \"R1_MATRICULA\"), \"FUENTE_PROCESAMIENTO\"] "
   ]
  },
  {
   "cell_type": "code",
   "execution_count": 37,
   "metadata": {},
   "outputs": [],
   "source": [
    "# excel_writer = pd.ExcelWriter(\"../output/\" + formatted_date + \"_BASE_PROCESADA_AVALUOS_IGAC_SUCRE.xlsx\", engine='xlsxwriter')\n",
    "\n",
    "# ofertas_final_v2.to_excel(excel_writer, sheet_name= \"Base_procesada\", index = False)\n",
    "# ofertas_final_v2.pivot_table(values = \"Id\", index=['DIVIPOLA', \"Departamento_nombre\", \"Municipio_nombre\"], columns=['ENCONTRADO'], aggfunc='count', fill_value=0, margins=True, margins_name='Total').to_excel(excel_writer, sheet_name= \"Resumen_Encontrados\")\n",
    "# ofertas_final_v2[ofertas_final_v2[\"ENCONTRADO\"] == \"SI\"].pivot_table(values = \"Id\", index=['DIVIPOLA', \"Departamento_nombre\", \"Municipio_nombre\"], columns=['ZONA'], aggfunc='count', fill_value=0, margins=True, margins_name='Total').to_excel(excel_writer, sheet_name= \"Resumen_Zona\")\n",
    "# excel_writer.save()\n",
    "\n",
    "with pd.ExcelWriter(\"../output/\" + formatted_date + \"_BASE_PROCESADA_AVALUOS_IGAC_SUCRE.xlsx\") as writer:  \n",
    "    ofertas_final_v2.to_excel(writer, sheet_name='Base_procesada', index = False)\n",
    "    ofertas_final_v2.pivot_table(values = \"Id\", index=['DIVIPOLA', \"Departamento_nombre\", \"Municipio_nombre\"], columns=['ENCONTRADO'], aggfunc='count', fill_value=0, margins=True, margins_name='Total').to_excel(writer, sheet_name='Resumen_Encontrados')\n",
    "    ofertas_final_v2[ofertas_final_v2[\"ENCONTRADO\"] == \"SI\"].pivot_table(values = \"Id\", index=['DIVIPOLA', \"Departamento_nombre\", \"Municipio_nombre\"], columns=['ZONA'], aggfunc='count', fill_value=0, margins=True, margins_name='Total').to_excel(writer, sheet_name='Resumen_Zona')"
   ]
  },
  {
   "cell_type": "code",
   "execution_count": 31,
   "metadata": {},
   "outputs": [
    {
     "name": "stdout",
     "output_type": "stream",
     "text": [
      "Collecting xlsxwriter\n",
      "  Downloading XlsxWriter-3.1.2-py3-none-any.whl (153 kB)\n",
      "                                              0.0/153.0 kB ? eta -:--:--\n",
      "     -------------------------------------- 153.0/153.0 kB 8.9 MB/s eta 0:00:00\n",
      "Installing collected packages: xlsxwriter\n",
      "Successfully installed xlsxwriter-3.1.2\n",
      "Note: you may need to restart the kernel to use updated packages.\n"
     ]
    },
    {
     "name": "stderr",
     "output_type": "stream",
     "text": [
      "\n",
      "[notice] A new release of pip is available: 23.1.2 -> 23.2\n",
      "[notice] To update, run: python.exe -m pip install --upgrade pip\n"
     ]
    }
   ],
   "source": [
    "pip install xlsxwriter\n"
   ]
  }
 ],
 "metadata": {
  "kernelspec": {
   "display_name": "Python 3",
   "language": "python",
   "name": "python3"
  },
  "language_info": {
   "codemirror_mode": {
    "name": "ipython",
    "version": 3
   },
   "file_extension": ".py",
   "mimetype": "text/x-python",
   "name": "python",
   "nbconvert_exporter": "python",
   "pygments_lexer": "ipython3",
   "version": "3.11.2"
  },
  "orig_nbformat": 4
 },
 "nbformat": 4,
 "nbformat_minor": 2
}
